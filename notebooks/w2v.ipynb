{
 "cells": [
  {
   "cell_type": "code",
   "execution_count": 2,
   "metadata": {},
   "outputs": [],
   "source": [
    "import sys\n",
    "sys.path.append(\"..\")\n",
    "import pandas as pd\n",
    "import numpy as np\n",
    "import pickle\n",
    "import tqdm\n",
    "import pymorphy2\n",
    "import logging\n",
    "import os\n",
    "from string import punctuation\n",
    "from nltk import TreebankWordTokenizer\n",
    "from nltk.corpus import stopwords\n",
    "from sklearn.metrics.pairwise import cosine_similarity\n",
    "from tqdm.auto import tqdm\n",
    "from sqlalchemy import create_engine\n",
    "from src.config import conn_string"
   ]
  },
  {
   "cell_type": "code",
   "execution_count": 3,
   "metadata": {},
   "outputs": [],
   "source": [
    "morph = pymorphy2.MorphAnalyzer()\n",
    "logging.basicConfig(level=\"INFO\")"
   ]
  },
  {
   "cell_type": "code",
   "execution_count": 4,
   "metadata": {},
   "outputs": [],
   "source": [
    "def get_lines(conn_string):\n",
    "    \"\"\"\n",
    "    Подключается к БД и выкачивает вакансии\n",
    "    \"\"\"\n",
    "    logging.info(\"Подгружаю данные из базы\")\n",
    "    engine = create_engine(conn_string)\n",
    "\n",
    "    df = pd.read_sql_table('vacancy', engine)\n",
    "    logging.info(df.head)\n",
    "    lines = df.vacdescription.tolist()\n",
    "    vacids = df.vacid.tolist()\n",
    "    return lines, vacids"
   ]
  },
  {
   "cell_type": "code",
   "execution_count": 5,
   "metadata": {},
   "outputs": [],
   "source": [
    "def txt_pipe(lines):\n",
    "    logging.info(\"Готовлю корпус\")\n",
    "    ru_stop_words = stopwords.words('russian')\n",
    "    lines_tok = [TreebankWordTokenizer().tokenize(x) for x in lines]\n",
    "    lines_tok = [[x for x in el if x not in punctuation] for el in lines_tok]\n",
    "    u_norm = [[morph.parse(x)[0][2] for x in el] for el in tqdm(lines_tok)]\n",
    "    u_norm = [[x for x in el if x not in ru_stop_words] for el in tqdm(u_norm)]\n",
    "    corpus = [' '.join(x) for x in u_norm]\n",
    "    return corpus"
   ]
  },
  {
   "cell_type": "code",
   "execution_count": 6,
   "metadata": {},
   "outputs": [],
   "source": [
    "\n",
    "def l2_norm(x):\n",
    "    return np.sqrt(np.sum(x ** 2))\n",
    "\n",
    "\n",
    "def div_norm(x):\n",
    "    norm_value = l2_norm(x)\n",
    "    if norm_value > 0:\n",
    "        return x * (1.0 / norm_value)\n",
    "    else:\n",
    "        return x"
   ]
  },
  {
   "cell_type": "code",
   "execution_count": 7,
   "metadata": {},
   "outputs": [],
   "source": [
    "def get_vacancy_vectors(vacids, corpus):\n",
    "    \"\"\"\n",
    "    Получает вектора профилей пользователей из фасттекста\n",
    "    \"\"\"\n",
    "\n",
    "    from gensim.models import FastText\n",
    "    \n",
    "    vacancy_vectors = {}\n",
    "    logging.info(\"Подгружаем обученную модель FastText\")\n",
    "    fasttext_pth = os.path.join('..','wvmodel','cc.ru.300.bin')\n",
    "    fast_text = FastText.load_fasttext_format(fasttext_pth).wv\n",
    "    \n",
    "    logging.info(\"Собираем векторы предложений\")\n",
    "    for x in tqdm((vacids, corpus)):\n",
    "\n",
    "        text = x[1].split()\n",
    "        text.append('\\n')\n",
    "        matrix = np.zeros((300,), dtype = 'float32')\n",
    "\n",
    "        for word in text:\n",
    "            matrix += div_norm(fast_text.word_vec(word))\n",
    "\n",
    "        vacancy_vectors[x[0]] = matrix"
   ]
  },
  {
   "cell_type": "code",
   "execution_count": 8,
   "metadata": {},
   "outputs": [],
   "source": [
    "\n",
    "def get_similarities(target_user, candidates):\n",
    "    \"\"\"Получает косинусные сходства сотрудника и кандидатов\"\"\"\n",
    "\n",
    "    tu_sims = {}\n",
    "    for vacid in vacids:\n",
    "        tu_sims[candidate] = cosine_similarity(\n",
    "            vacancy_vectors[vacid],\n",
    "            user_vectors\n",
    "        )[0][0]\n",
    "\n",
    "    return tu_sims"
   ]
  },
  {
   "cell_type": "code",
   "execution_count": 9,
   "metadata": {
    "scrolled": true
   },
   "outputs": [
    {
     "name": "stderr",
     "output_type": "stream",
     "text": [
      "INFO:root:Подгружаю данные из базы\n",
      "INFO:root:<bound method NDFrame.head of           id                 created_at                 updated_at   vacid  \\\n",
      "0     156714 2020-12-17 20:17:18.625748 2020-12-17 20:17:18.625881   78349   \n",
      "1     156715 2020-12-17 20:17:18.625748 2020-12-17 20:17:18.625881   99119   \n",
      "2     156716 2020-12-17 20:17:18.625748 2020-12-17 20:17:18.625881   99132   \n",
      "3     156717 2020-12-17 20:17:18.625748 2020-12-17 20:17:18.625881  368975   \n",
      "4     156718 2020-12-17 20:17:18.625748 2020-12-17 20:17:18.625881  370412   \n",
      "...      ...                        ...                        ...     ...   \n",
      "3402  160116 2020-12-17 20:17:18.625748 2020-12-17 20:17:18.625881  453073   \n",
      "3403  160117 2020-12-17 20:17:18.625748 2020-12-17 20:17:18.625881  453796   \n",
      "3404  160118 2020-12-17 20:17:18.625748 2020-12-17 20:17:18.625881  461680   \n",
      "3405  160119 2020-12-17 20:17:18.625748 2020-12-17 20:17:18.625881  476181   \n",
      "3406  160120 2020-12-17 20:17:18.625748 2020-12-17 20:17:18.625881  511316   \n",
      "\n",
      "                              vactitle  \\\n",
      "0     Старший менеджер по обслуживанию   \n",
      "1       Мобильный менеджер по продажам   \n",
      "2       Мобильный менеджер по продажам   \n",
      "3       Мобильный менеджер по продажам   \n",
      "4       Мобильный менеджер по продажам   \n",
      "...                                ...   \n",
      "3402     Специалист по прямым продажам   \n",
      "3403     Специалист по прямым продажам   \n",
      "3404                  Java-разработчик   \n",
      "3405              Мероприятия Graduate   \n",
      "3406                        Практикант   \n",
      "\n",
      "                                         vacdescription     vacdate vacstatus  \\\n",
      "0     Мы предлагаем: трудоустройство согласно ТК РФ;...  2020-12-18       new   \n",
      "1      Мы предлагаем: - оформление согласно трудовом...  2020-12-17       new   \n",
      "2     Мы предлагаем:оформление согласно трудовому ко...  2020-12-18       new   \n",
      "3     Мы предлагаем:оформление согласно трудовому ко...  2020-12-17       new   \n",
      "4     Мы предлагаем:оформление согласно трудовому ко...  2020-12-17       new   \n",
      "...                                                 ...         ...       ...   \n",
      "3402  Мы предлагаем:- трудоустройство согласно ТК РФ...  2019-01-11       new   \n",
      "3403  Мы предлагаем:  трудоустройство согласно ТК РФ...  2018-12-11       new   \n",
      "3404  Мы ищем Java разработчика готового присоединит...  2018-12-29       new   \n",
      "3405                                                     2019-01-11       new   \n",
      "3406    Условия: стажировка в крупнейшем банке Росси...  2019-02-12       new   \n",
      "\n",
      "                                                vaclink  \n",
      "0     https://my.sbertalents.ru/#/job-requisition/78349  \n",
      "1     https://my.sbertalents.ru/#/job-requisition/99119  \n",
      "2     https://my.sbertalents.ru/#/job-requisition/99132  \n",
      "3     https://my.sbertalents.ru/#/job-requisition/36...  \n",
      "4     https://my.sbertalents.ru/#/job-requisition/37...  \n",
      "...                                                 ...  \n",
      "3402  https://my.sbertalents.ru/#/job-requisition/45...  \n",
      "3403  https://my.sbertalents.ru/#/job-requisition/45...  \n",
      "3404  https://my.sbertalents.ru/#/job-requisition/46...  \n",
      "3405  https://my.sbertalents.ru/#/job-requisition/47...  \n",
      "3406  https://my.sbertalents.ru/#/job-requisition/51...  \n",
      "\n",
      "[3407 rows x 9 columns]>\n"
     ]
    }
   ],
   "source": [
    "lines, vacids = get_lines(conn_string)"
   ]
  },
  {
   "cell_type": "code",
   "execution_count": 10,
   "metadata": {},
   "outputs": [
    {
     "name": "stderr",
     "output_type": "stream",
     "text": [
      "INFO:root:Готовлю корпус\n"
     ]
    },
    {
     "data": {
      "text/plain": "HBox(children=(HTML(value=''), FloatProgress(value=0.0, max=3407.0), HTML(value='')))",
      "application/vnd.jupyter.widget-view+json": {
       "version_major": 2,
       "version_minor": 0,
       "model_id": "12eb92aedc274a8ea14a0fa627d53efa"
      }
     },
     "metadata": {},
     "output_type": "display_data"
    },
    {
     "name": "stdout",
     "output_type": "stream",
     "text": [
      "\n",
      "\n"
     ]
    },
    {
     "data": {
      "text/plain": "HBox(children=(HTML(value=''), FloatProgress(value=0.0, max=3407.0), HTML(value='')))",
      "application/vnd.jupyter.widget-view+json": {
       "version_major": 2,
       "version_minor": 0,
       "model_id": "a2e3884e0c764930a8b7c11789e5d503"
      }
     },
     "metadata": {},
     "output_type": "display_data"
    }
   ],
   "source": [
    "corpus = txt_pipe(lines)"
   ]
  },
  {
   "cell_type": "code",
   "execution_count": 11,
   "metadata": {
    "scrolled": true
   },
   "outputs": [],
   "source": [
    "# with open(os.path.join('..','data','corpus.pkl'), 'wb') as f:\n",
    "#     pickle.dump(corpus, f)\n",
    "\n",
    "# with open(os.path.join('..','data','vacids.pkl'), 'wb') as f:\n",
    "#     pickle.dump(vacids, f)"
   ]
  },
  {
   "cell_type": "code",
   "execution_count": 6,
   "metadata": {},
   "outputs": [],
   "source": [
    "with open(os.path.join('..','data','vacids.pkl'), 'rb') as f:\n",
    "    vacids = pickle.load(f)\n",
    "\n",
    "with open(os.path.join('..','data','corpus.pkl'), 'rb') as f:\n",
    "    corpus = pickle.load(f)"
   ]
  },
  {
   "cell_type": "code",
   "execution_count": null,
   "metadata": {},
   "outputs": [],
   "source": []
  },
  {
   "cell_type": "code",
   "execution_count": 29,
   "metadata": {
    "scrolled": false
   },
   "outputs": [
    {
     "name": "stderr",
     "output_type": "stream",
     "text": [
      "<ipython-input-24-dae2beaa0cb4>:11: DeprecationWarning: Call to deprecated `load_fasttext_format` (use load_facebook_vectors (to use pretrained embeddings) or load_facebook_model (to continue training with the loaded full model, more RAM) instead).\n",
      "  fast_text = FastText.load_fasttext_format(fasttext_pth).wv\n"
     ]
    },
    {
     "data": {
      "application/vnd.jupyter.widget-view+json": {
       "model_id": "ffbf9f916bac4c65a5b7e61d7412b97c",
       "version_major": 2,
       "version_minor": 0
      },
      "text/plain": [
       "HBox(children=(FloatProgress(value=0.0, max=2.0), HTML(value='')))"
      ]
     },
     "metadata": {},
     "output_type": "display_data"
    },
    {
     "name": "stdout",
     "output_type": "stream",
     "text": [
      "\n"
     ]
    }
   ],
   "source": [
    "vvect = get_vacancy_vectors(vacids, corpus)"
   ]
  },
  {
   "cell_type": "code",
   "execution_count": 9,
   "metadata": {},
   "outputs": [],
   "source": [
    "# logging.info(\"Подгружаем обученную модель FastText\")"
   ]
  },
  {
   "cell_type": "code",
   "execution_count": 3,
   "metadata": {},
   "outputs": [],
   "source": [
    "from gensim.models import fasttext\n",
    "# fasttext_pth = os.path.join('..','wvmodel','cc.ru.300.bin')\n",
    "# fast_text = fasttext.load_facebook_vectors(fasttext_pth)\n",
    "\n",
    "with open(os.path.join('..','data','fast_text.pkl'), 'rb') as f:\n",
    "    fast_text = pickle.load(f)"
   ]
  },
  {
   "cell_type": "code",
   "execution_count": 14,
   "outputs": [],
   "source": [
    "# with open(os.path.join('..','data','fast_text.pkl'), 'wb') as f:\n",
    "#     pickle.dump(fast_text, f)"
   ],
   "metadata": {
    "collapsed": false,
    "pycharm": {
     "name": "#%%\n"
    }
   }
  },
  {
   "cell_type": "code",
   "execution_count": 13,
   "metadata": {},
   "outputs": [
    {
     "data": {
      "application/vnd.jupyter.widget-view+json": {
       "model_id": "a412b7b1b2904062b60d84c58377d883",
       "version_major": 2,
       "version_minor": 0
      },
      "text/plain": [
       "HBox(children=(FloatProgress(value=0.0, max=3307.0), HTML(value='')))"
      ]
     },
     "metadata": {},
     "output_type": "display_data"
    },
    {
     "name": "stdout",
     "output_type": "stream",
     "text": [
      "\n"
     ]
    }
   ],
   "source": [
    "vacancy_vectors = {}\n",
    "for x in tqdm(list(zip(vacids, corpus))):\n",
    "    text = x[1].split()\n",
    "    text.append('\\n')\n",
    "    matrix = np.zeros((300,), dtype = 'float32')\n",
    "    for word in text:\n",
    "        matrix += div_norm(fast_text.word_vec(word))\n",
    "    vacancy_vectors[x[0]] = matrix"
   ]
  },
  {
   "cell_type": "code",
   "execution_count": 70,
   "metadata": {},
   "outputs": [],
   "source": [
    "text = \"python git data science machine learning\"\n",
    "text = \"сми репутация сторителлинг фактчекинг пресс-релиз коммуникация pr журналист москва\"\n",
    "text = text.split()\n",
    "text.append('\\n')\n",
    "matrix = np.zeros((300,), dtype = 'float32')\n",
    "for word in text:\n",
    "    matrix += div_norm(fast_text.word_vec(word))"
   ]
  },
  {
   "cell_type": "code",
   "execution_count": 71,
   "metadata": {
    "scrolled": false
   },
   "outputs": [
    {
     "data": {
      "application/vnd.jupyter.widget-view+json": {
       "model_id": "3875046877ab488593b6005ddcbc75ee",
       "version_major": 2,
       "version_minor": 0
      },
      "text/plain": [
       "HBox(children=(FloatProgress(value=0.0, max=3307.0), HTML(value='')))"
      ]
     },
     "metadata": {},
     "output_type": "display_data"
    },
    {
     "name": "stdout",
     "output_type": "stream",
     "text": [
      "\n"
     ]
    }
   ],
   "source": [
    "tu_sims = {}\n",
    "for vacid in tqdm(vacids):\n",
    "    tu_sims[vacid] = cosine_similarity(vacancy_vectors[vacid].reshape(1,-1),\n",
    "                                       matrix.reshape(1,-1))[0][0]"
   ]
  },
  {
   "cell_type": "code",
   "execution_count": 75,
   "metadata": {},
   "outputs": [],
   "source": [
    "tu_sorted = sorted(tu_sims.items(), key=lambda x:x[1], reverse=True)\n",
    "tu_sorted = [x[0] for x in tu_sorted]\n",
    "df = pd.DataFrame({'description':lines, 'vacid':vacids})\n",
    "df = df.set_index('vacid')"
   ]
  },
  {
   "cell_type": "code",
   "execution_count": 83,
   "metadata": {},
   "outputs": [
    {
     "data": {
      "text/plain": [
       "' Условия:Профессиональное обучение, семинары, тренинги, конференции;Квартальные и годовые премии;ДМС, сниженные ставки по кредитованию, программы лояльности для сотрудников;Самые инновационные, амбициозные проекты и задачи.Обязанности:Написание самостоятельных текстов/статей: лонгриды, заметки, подводки, тезисы и т. д.;Написание и редактирование текстов для новостей, статей, пресс-релизов, презентаций, соцсетей, рассылок и интерфейсов;Проработка контент-планов;Коммуникации с проджектами и дизайнерами (подготовка ТЗ и брифов);Участие в мероприятиях, подготовка речи/выступлений, оперативная подготовка репортажей;Вычитка и редактирование текстов в электронном виде с целью обеспечения графического и лексического единообразия различных элементов текста, устранения орфографических и пунктуационных ошибок, а также исправления недостатков смыслового и стилистического характера;Редактура текстов других авторов, рерайтинг. Делать из слабого текста сильный: менять структуру, корректировать стилистику;Понимать, какие задачи должен решать контент;Быстро и качественно собирать, анализировать и структурировать информацию. Требования:Высшее профессиональное образование (филологическое), стаж работы — от 1 года;Абсолютная грамотность, внимательность, оперативность, умение работать с большим объёмом информации;Уверенный пользователь ПК (Интернет, MS Office, Excel, Word);Ответственность и преданность делу.Обязанности:Написание самостоятельных текстов/статей: лонгриды, заметки, подводки, тезисы и т. д.;Написание и редактирование текстов для новостей, статей, пресс-релизов, презентаций, соцсетей, рассылок и интерфейсов;Проработка контент-планов;Коммуникации с проджектами и дизайнерами (подготовка ТЗ и брифов);Участие в мероприятиях, подготовка речи/выступлений, оперативная подготовка репортажей;Вычитка и редактирование текстов в электронном виде с целью обеспечения графического и лексического единообразия различных элементов текста, устранения орфографических и пунктуационных ошибок, а также исправления недостатков смыслового и стилистического характера;Редактура текстов других авторов, рерайтинг. Делать из слабого текста сильный: менять структуру, корректировать стилистику;Понимать, какие задачи должен решать контент;Быстро и качественно собирать, анализировать и структурировать информацию. Требования:Высшее профессиональное образование (филологическое), стаж работы — от 1 года;Абсолютная грамотность, внимательность, оперативность, умение работать с большим объёмом информации;Уверенный пользователь ПК (Интернет, MS Office, Excel, Word);Ответственность и преданность делу. Условия:Профессиональное обучение, семинары, тренинги, конференции;Квартальные и годовые премии;ДМС, сниженные ставки по кредитованию, программы лояльности для сотрудников;Самые инновационные, амбициозные проекты и задачи.'"
      ]
     },
     "execution_count": 83,
     "metadata": {},
     "output_type": "execute_result"
    }
   ],
   "source": [
    "df.loc[tu_sorted[]].description"
   ]
  },
  {
   "cell_type": "code",
   "execution_count": null,
   "metadata": {},
   "outputs": [],
   "source": []
  }
 ],
 "metadata": {
  "kernelspec": {
   "display_name": "Python 3",
   "language": "python",
   "name": "python3"
  },
  "language_info": {
   "codemirror_mode": {
    "name": "ipython",
    "version": 3
   },
   "file_extension": ".py",
   "mimetype": "text/x-python",
   "name": "python",
   "nbconvert_exporter": "python",
   "pygments_lexer": "ipython3",
   "version": "3.8.5"
  }
 },
 "nbformat": 4,
 "nbformat_minor": 4
}